{
 "cells": [
  {
   "cell_type": "code",
   "execution_count": 7,
   "id": "bbd2e344-10c6-4267-80a5-25c609524566",
   "metadata": {},
   "outputs": [],
   "source": [
    "import os\n",
    "\n",
    "# Directory with training horse pictures\n",
    "train_0_dir = os.path.join('./Dataset/Image/Training/0')\n",
    "train_1_dir = os.path.join('./Dataset/Image/Training/1')\n",
    "train_2_dir = os.path.join('./Dataset/Image/Training/2')\n",
    "train_3_dir = os.path.join('./Dataset/Image/Training/3')\n",
    "train_4_dir = os.path.join('./Dataset/Image/Training/4')\n",
    "train_5_dir = os.path.join('./Dataset/Image/Training/5')\n",
    "train_6_dir = os.path.join('./Dataset/Image/Training/6')\n",
    "train_7_dir = os.path.join('./Dataset/Image/Training/7')\n",
    "train_8_dir = os.path.join('./Dataset/Image/Training/8')\n",
    "train_9_dir = os.path.join('./Dataset/Image/Training/9')"
   ]
  },
  {
   "cell_type": "code",
   "execution_count": 8,
   "id": "6f03f6ec-932a-41ef-9531-00d323281eee",
   "metadata": {},
   "outputs": [
    {
     "name": "stdout",
     "output_type": "stream",
     "text": [
      "TRAIN SET 0: ['0_10_rotate_1.jpeg', '0_10_rotate_10.jpeg', '0_10_rotate_11.jpeg', '0_10_rotate_12.jpeg', '0_10_rotate_13.jpeg', '0_10_rotate_14.jpeg', '0_10_rotate_15.jpeg', '0_10_rotate_16.jpeg', '0_10_rotate_17.jpeg', '0_10_rotate_18.jpeg']\n",
      "TRAIN SET 1: ['1_10_rotate_1.jpeg', '1_10_rotate_10.jpeg', '1_10_rotate_2.jpeg', '1_10_rotate_3.jpeg', '1_10_rotate_4.jpeg', '1_10_rotate_5.jpeg', '1_10_rotate_6.jpeg', '1_10_rotate_7.jpeg', '1_10_rotate_8.jpeg', '1_10_rotate_9.jpeg']\n",
      "TRAIN SET 2: ['2_10_rotate_1.jpeg', '2_10_rotate_10.jpeg', '2_10_rotate_2.jpeg', '2_10_rotate_3.jpeg', '2_10_rotate_4.jpeg', '2_10_rotate_5.jpeg', '2_10_rotate_6.jpeg', '2_10_rotate_7.jpeg', '2_10_rotate_8.jpeg', '2_10_rotate_9.jpeg']\n",
      "TRAIN SET 3: ['3_10_rotate_1.jpeg', '3_10_rotate_10.jpeg', '3_10_rotate_2.jpeg', '3_10_rotate_3.jpeg', '3_10_rotate_4.jpeg', '3_10_rotate_5.jpeg', '3_10_rotate_6.jpeg', '3_10_rotate_7.jpeg', '3_10_rotate_8.jpeg', '3_10_rotate_9.jpeg']\n",
      "TRAIN SET 4: ['4_10_rotate_1.jpeg', '4_10_rotate_10.jpeg', '4_10_rotate_2.jpeg', '4_10_rotate_3.jpeg', '4_10_rotate_4.jpeg', '4_10_rotate_5.jpeg', '4_10_rotate_6.jpeg', '4_10_rotate_7.jpeg', '4_10_rotate_8.jpeg', '4_10_rotate_9.jpeg']\n",
      "TRAIN SET 5: ['5_10_rotate_1.jpeg', '5_10_rotate_10.jpeg', '5_10_rotate_2.jpeg', '5_10_rotate_3.jpeg', '5_10_rotate_4.jpeg', '5_10_rotate_5.jpeg', '5_10_rotate_6.jpeg', '5_10_rotate_7.jpeg', '5_10_rotate_8.jpeg', '5_10_rotate_9.jpeg']\n",
      "TRAIN SET 6: ['6_10_rotate_1.jpeg', '6_10_rotate_10.jpeg', '6_10_rotate_2.jpeg', '6_10_rotate_3.jpeg', '6_10_rotate_4.jpeg', '6_10_rotate_5.jpeg', '6_10_rotate_6.jpeg', '6_10_rotate_7.jpeg', '6_10_rotate_8.jpeg', '6_10_rotate_9.jpeg']\n",
      "TRAIN SET 7: ['7_10_rotate_1.jpeg', '7_10_rotate_10.jpeg', '7_10_rotate_2.jpeg', '7_10_rotate_3.jpeg', '7_10_rotate_4.jpeg', '7_10_rotate_5.jpeg', '7_10_rotate_6.jpeg', '7_10_rotate_7.jpeg', '7_10_rotate_8.jpeg', '7_10_rotate_9.jpeg']\n",
      "TRAIN SET 8: ['8_10_rotate_1.jpeg', '8_10_rotate_10.jpeg', '8_10_rotate_2.jpeg', '8_10_rotate_3.jpeg', '8_10_rotate_4.jpeg', '8_10_rotate_5.jpeg', '8_10_rotate_6.jpeg', '8_10_rotate_7.jpeg', '8_10_rotate_8.jpeg', '8_10_rotate_9.jpeg']\n",
      "TRAIN SET 9: ['9_10_rotate_1.jpeg', '9_10_rotate_10.jpeg', '9_10_rotate_2.jpeg', '9_10_rotate_3.jpeg', '9_10_rotate_4.jpeg', '9_10_rotate_5.jpeg', '9_10_rotate_6.jpeg', '9_10_rotate_7.jpeg', '9_10_rotate_8.jpeg', '9_10_rotate_9.jpeg']\n"
     ]
    }
   ],
   "source": [
    "# Listing the contents of each training directory\n",
    "train_0_names = os.listdir(train_0_dir)\n",
    "train_1_names = os.listdir(train_1_dir)\n",
    "train_2_names = os.listdir(train_2_dir)\n",
    "train_3_names = os.listdir(train_3_dir)\n",
    "train_4_names = os.listdir(train_4_dir)\n",
    "train_5_names = os.listdir(train_5_dir)\n",
    "train_6_names = os.listdir(train_6_dir)\n",
    "train_7_names = os.listdir(train_7_dir)\n",
    "train_8_names = os.listdir(train_8_dir)\n",
    "train_9_names = os.listdir(train_9_dir)\n",
    "\n",
    "# Printing the first 10 items in each directory\n",
    "print(f'TRAIN SET 0: {train_0_names[:10]}')\n",
    "print(f'TRAIN SET 1: {train_1_names[:10]}')\n",
    "print(f'TRAIN SET 2: {train_2_names[:10]}')\n",
    "print(f'TRAIN SET 3: {train_3_names[:10]}')\n",
    "print(f'TRAIN SET 4: {train_4_names[:10]}')\n",
    "print(f'TRAIN SET 5: {train_5_names[:10]}')\n",
    "print(f'TRAIN SET 6: {train_6_names[:10]}')\n",
    "print(f'TRAIN SET 7: {train_7_names[:10]}')\n",
    "print(f'TRAIN SET 8: {train_8_names[:10]}')\n",
    "print(f'TRAIN SET 9: {train_9_names[:10]}')"
   ]
  },
  {
   "cell_type": "code",
   "execution_count": 10,
   "id": "83916564-cb0e-4a15-ae21-d56b77077ccf",
   "metadata": {},
   "outputs": [
    {
     "name": "stdout",
     "output_type": "stream",
     "text": [
      "total training 0 images: 1009\n",
      "total training 1 images: 871\n",
      "total training 2 images: 871\n",
      "total training 3 images: 871\n",
      "total training 4 images: 872\n",
      "total training 5 images: 872\n",
      "total training 6 images: 872\n",
      "total training 7 images: 871\n",
      "total training 8 images: 873\n",
      "total training 9 images: 869\n"
     ]
    }
   ],
   "source": [
    "print(f'total training 0 images: {len(os.listdir(train_0_dir))}')\n",
    "print(f'total training 1 images: {len(os.listdir(train_1_dir))}')\n",
    "print(f'total training 2 images: {len(os.listdir(train_2_dir))}')\n",
    "print(f'total training 3 images: {len(os.listdir(train_3_dir))}')\n",
    "print(f'total training 4 images: {len(os.listdir(train_4_dir))}')\n",
    "print(f'total training 5 images: {len(os.listdir(train_5_dir))}')\n",
    "print(f'total training 6 images: {len(os.listdir(train_6_dir))}')\n",
    "print(f'total training 7 images: {len(os.listdir(train_7_dir))}')\n",
    "print(f'total training 8 images: {len(os.listdir(train_8_dir))}')\n",
    "print(f'total training 9 images: {len(os.listdir(train_9_dir))}')"
   ]
  },
  {
   "cell_type": "code",
   "execution_count": null,
   "id": "b39535ba-cfeb-4c6e-9f73-d0e04dce783d",
   "metadata": {},
   "outputs": [],
   "source": []
  }
 ],
 "metadata": {
  "kernelspec": {
   "display_name": "Python 3 (ipykernel)",
   "language": "python",
   "name": "python3"
  },
  "language_info": {
   "codemirror_mode": {
    "name": "ipython",
    "version": 3
   },
   "file_extension": ".py",
   "mimetype": "text/x-python",
   "name": "python",
   "nbconvert_exporter": "python",
   "pygments_lexer": "ipython3",
   "version": "3.12.3"
  }
 },
 "nbformat": 4,
 "nbformat_minor": 5
}
